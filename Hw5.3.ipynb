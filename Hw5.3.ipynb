{
 "cells": [
  {
   "cell_type": "code",
   "execution_count": 806,
   "id": "d786b447-1c7c-454b-9819-d4ffa33d94b4",
   "metadata": {},
   "outputs": [],
   "source": [
    "import pandas as pd\n",
    "import numpy as np\n",
    "import seaborn as sns\n",
    "import matplotlib.pyplot as plt\n",
    "%matplotlib inline"
   ]
  },
  {
   "cell_type": "code",
   "execution_count": 807,
   "id": "a4467d5b-a7c6-44b0-9eb3-d403847a52ef",
   "metadata": {},
   "outputs": [
    {
     "data": {
      "text/html": [
       "<div>\n",
       "<style scoped>\n",
       "    .dataframe tbody tr th:only-of-type {\n",
       "        vertical-align: middle;\n",
       "    }\n",
       "\n",
       "    .dataframe tbody tr th {\n",
       "        vertical-align: top;\n",
       "    }\n",
       "\n",
       "    .dataframe thead th {\n",
       "        text-align: right;\n",
       "    }\n",
       "</style>\n",
       "<table border=\"1\" class=\"dataframe\">\n",
       "  <thead>\n",
       "    <tr style=\"text-align: right;\">\n",
       "      <th></th>\n",
       "      <th>Name</th>\n",
       "      <th>Author</th>\n",
       "      <th>User Rating</th>\n",
       "      <th>Reviews</th>\n",
       "      <th>Price</th>\n",
       "      <th>Year</th>\n",
       "      <th>Genre</th>\n",
       "    </tr>\n",
       "  </thead>\n",
       "  <tbody>\n",
       "    <tr>\n",
       "      <th>0</th>\n",
       "      <td>10-Day Green Smoothie Cleanse</td>\n",
       "      <td>JJ Smith</td>\n",
       "      <td>4.7</td>\n",
       "      <td>17350</td>\n",
       "      <td>8</td>\n",
       "      <td>2016</td>\n",
       "      <td>Non Fiction</td>\n",
       "    </tr>\n",
       "    <tr>\n",
       "      <th>1</th>\n",
       "      <td>11/22/63: A Novel</td>\n",
       "      <td>Stephen King</td>\n",
       "      <td>4.6</td>\n",
       "      <td>2052</td>\n",
       "      <td>22</td>\n",
       "      <td>2011</td>\n",
       "      <td>Fiction</td>\n",
       "    </tr>\n",
       "    <tr>\n",
       "      <th>2</th>\n",
       "      <td>12 Rules for Life: An Antidote to Chaos</td>\n",
       "      <td>Jordan B. Peterson</td>\n",
       "      <td>4.7</td>\n",
       "      <td>18979</td>\n",
       "      <td>15</td>\n",
       "      <td>2018</td>\n",
       "      <td>Non Fiction</td>\n",
       "    </tr>\n",
       "    <tr>\n",
       "      <th>3</th>\n",
       "      <td>1984 (Signet Classics)</td>\n",
       "      <td>George Orwell</td>\n",
       "      <td>4.7</td>\n",
       "      <td>21424</td>\n",
       "      <td>6</td>\n",
       "      <td>2017</td>\n",
       "      <td>Fiction</td>\n",
       "    </tr>\n",
       "    <tr>\n",
       "      <th>4</th>\n",
       "      <td>5,000 Awesome Facts (About Everything!) (Natio...</td>\n",
       "      <td>National Geographic Kids</td>\n",
       "      <td>4.8</td>\n",
       "      <td>7665</td>\n",
       "      <td>12</td>\n",
       "      <td>2019</td>\n",
       "      <td>Non Fiction</td>\n",
       "    </tr>\n",
       "  </tbody>\n",
       "</table>\n",
       "</div>"
      ],
      "text/plain": [
       "                                                Name  \\\n",
       "0                      10-Day Green Smoothie Cleanse   \n",
       "1                                  11/22/63: A Novel   \n",
       "2            12 Rules for Life: An Antidote to Chaos   \n",
       "3                             1984 (Signet Classics)   \n",
       "4  5,000 Awesome Facts (About Everything!) (Natio...   \n",
       "\n",
       "                     Author  User Rating  Reviews  Price  Year        Genre  \n",
       "0                  JJ Smith          4.7    17350      8  2016  Non Fiction  \n",
       "1              Stephen King          4.6     2052     22  2011      Fiction  \n",
       "2        Jordan B. Peterson          4.7    18979     15  2018  Non Fiction  \n",
       "3             George Orwell          4.7    21424      6  2017      Fiction  \n",
       "4  National Geographic Kids          4.8     7665     12  2019  Non Fiction  "
      ]
     },
     "execution_count": 807,
     "metadata": {},
     "output_type": "execute_result"
    }
   ],
   "source": [
    "book_content = pd.read_csv(\"bestsellers with categories.csv\")\n",
    "book_content.head()"
   ]
  },
  {
   "cell_type": "code",
   "execution_count": 808,
   "id": "7b7bd3f1-7f86-4e6c-a218-3b44b458906e",
   "metadata": {},
   "outputs": [
    {
     "data": {
      "text/plain": [
       "(550, 7)"
      ]
     },
     "execution_count": 808,
     "metadata": {},
     "output_type": "execute_result"
    }
   ],
   "source": [
    "book_content.shape"
   ]
  },
  {
   "cell_type": "code",
   "execution_count": 809,
   "id": "ac9f3833-c07a-4550-bd8f-58797fa5f745",
   "metadata": {},
   "outputs": [
    {
     "name": "stdout",
     "output_type": "stream",
     "text": [
      "Number of unique books:  351\n"
     ]
    }
   ],
   "source": [
    "#Відповідь: Про скільки книг зберігає дані датасет?\n",
    "\n",
    "unique = book_content[\"Name\"].nunique()\n",
    "print(\"Number of unique books: \", unique)\n",
    "\n",
    "#Answer: There are 550 lines, but there are some duplicates in it, so there are only 351 unique books included."
   ]
  },
  {
   "cell_type": "code",
   "execution_count": 810,
   "id": "d520543e-1292-4feb-9684-c2018c60955b",
   "metadata": {},
   "outputs": [
    {
     "data": {
      "text/html": [
       "<div>\n",
       "<style scoped>\n",
       "    .dataframe tbody tr th:only-of-type {\n",
       "        vertical-align: middle;\n",
       "    }\n",
       "\n",
       "    .dataframe tbody tr th {\n",
       "        vertical-align: top;\n",
       "    }\n",
       "\n",
       "    .dataframe thead th {\n",
       "        text-align: right;\n",
       "    }\n",
       "</style>\n",
       "<table border=\"1\" class=\"dataframe\">\n",
       "  <thead>\n",
       "    <tr style=\"text-align: right;\">\n",
       "      <th></th>\n",
       "      <th>name</th>\n",
       "      <th>author</th>\n",
       "      <th>user_rating</th>\n",
       "      <th>reviews</th>\n",
       "      <th>price</th>\n",
       "      <th>year</th>\n",
       "      <th>genre</th>\n",
       "    </tr>\n",
       "  </thead>\n",
       "  <tbody>\n",
       "    <tr>\n",
       "      <th>0</th>\n",
       "      <td>10-Day Green Smoothie Cleanse</td>\n",
       "      <td>JJ Smith</td>\n",
       "      <td>4.7</td>\n",
       "      <td>17350</td>\n",
       "      <td>8</td>\n",
       "      <td>2016</td>\n",
       "      <td>Non Fiction</td>\n",
       "    </tr>\n",
       "    <tr>\n",
       "      <th>1</th>\n",
       "      <td>11/22/63: A Novel</td>\n",
       "      <td>Stephen King</td>\n",
       "      <td>4.6</td>\n",
       "      <td>2052</td>\n",
       "      <td>22</td>\n",
       "      <td>2011</td>\n",
       "      <td>Fiction</td>\n",
       "    </tr>\n",
       "    <tr>\n",
       "      <th>2</th>\n",
       "      <td>12 Rules for Life: An Antidote to Chaos</td>\n",
       "      <td>Jordan B. Peterson</td>\n",
       "      <td>4.7</td>\n",
       "      <td>18979</td>\n",
       "      <td>15</td>\n",
       "      <td>2018</td>\n",
       "      <td>Non Fiction</td>\n",
       "    </tr>\n",
       "    <tr>\n",
       "      <th>3</th>\n",
       "      <td>1984 (Signet Classics)</td>\n",
       "      <td>George Orwell</td>\n",
       "      <td>4.7</td>\n",
       "      <td>21424</td>\n",
       "      <td>6</td>\n",
       "      <td>2017</td>\n",
       "      <td>Fiction</td>\n",
       "    </tr>\n",
       "    <tr>\n",
       "      <th>4</th>\n",
       "      <td>5,000 Awesome Facts (About Everything!) (Natio...</td>\n",
       "      <td>National Geographic Kids</td>\n",
       "      <td>4.8</td>\n",
       "      <td>7665</td>\n",
       "      <td>12</td>\n",
       "      <td>2019</td>\n",
       "      <td>Non Fiction</td>\n",
       "    </tr>\n",
       "  </tbody>\n",
       "</table>\n",
       "</div>"
      ],
      "text/plain": [
       "                                                name  \\\n",
       "0                      10-Day Green Smoothie Cleanse   \n",
       "1                                  11/22/63: A Novel   \n",
       "2            12 Rules for Life: An Antidote to Chaos   \n",
       "3                             1984 (Signet Classics)   \n",
       "4  5,000 Awesome Facts (About Everything!) (Natio...   \n",
       "\n",
       "                     author  user_rating  reviews  price  year        genre  \n",
       "0                  JJ Smith          4.7    17350      8  2016  Non Fiction  \n",
       "1              Stephen King          4.6     2052     22  2011      Fiction  \n",
       "2        Jordan B. Peterson          4.7    18979     15  2018  Non Fiction  \n",
       "3             George Orwell          4.7    21424      6  2017      Fiction  \n",
       "4  National Geographic Kids          4.8     7665     12  2019  Non Fiction  "
      ]
     },
     "execution_count": 810,
     "metadata": {},
     "output_type": "execute_result"
    }
   ],
   "source": [
    "book_content.columns = ['name', 'author', 'user_rating', 'reviews', 'price', 'year', 'genre']\n",
    "book_content.head()"
   ]
  },
  {
   "cell_type": "code",
   "execution_count": 811,
   "id": "95aef5e3-3c69-4d9e-a891-9280606d8e60",
   "metadata": {},
   "outputs": [
    {
     "data": {
      "text/plain": [
       "name           0\n",
       "author         0\n",
       "user_rating    0\n",
       "reviews        0\n",
       "price          0\n",
       "year           0\n",
       "genre          0\n",
       "dtype: int64"
      ]
     },
     "execution_count": 811,
     "metadata": {},
     "output_type": "execute_result"
    }
   ],
   "source": [
    "#Відповідь: Чи є в якихось змінних пропуски? (Так / ні)\n",
    "#Answer: No\n",
    "book_content.isna().sum()"
   ]
  },
  {
   "cell_type": "code",
   "execution_count": 812,
   "id": "6883ea19-7501-4049-b911-652d2d1f5eda",
   "metadata": {},
   "outputs": [
    {
     "data": {
      "text/plain": [
       "0    Non Fiction\n",
       "1        Fiction\n",
       "Name: genre, dtype: object"
      ]
     },
     "execution_count": 812,
     "metadata": {},
     "output_type": "execute_result"
    }
   ],
   "source": [
    "unique_genre = book_content[\"genre\"].drop_duplicates()\n",
    "unique_genre"
   ]
  },
  {
   "cell_type": "code",
   "execution_count": 813,
   "id": "4ec5c79e-16eb-410d-b863-90995ec9e82d",
   "metadata": {},
   "outputs": [
    {
     "name": "stdout",
     "output_type": "stream",
     "text": [
      "Answer: Unique genres are  ['Non Fiction', 'Fiction']\n"
     ]
    }
   ],
   "source": [
    "#Відповідь: Які є унікальні жанри?\n",
    "print(\"Answer: Unique genres are \", unique_genre.tolist())"
   ]
  },
  {
   "cell_type": "code",
   "execution_count": 814,
   "id": "5533dd20-aa0e-4511-8ec0-35c338c59100",
   "metadata": {},
   "outputs": [
    {
     "data": {
      "image/png": "[encoded data removed]",
      "text/plain": [
       "<Figure size 1000x1000 with 1 Axes>"
      ]
     },
     "metadata": {},
     "output_type": "display_data"
    }
   ],
   "source": [
    "unique_price = sorted(book_content['price'].unique())\n",
    "\n",
    "book_content['price'].plot(kind='hist', bins=unique_price, edgecolor = 'yellow', figsize=(10,10))\n",
    "plt.xlabel(\"Price\")\n",
    "plt.ylabel(\"Frequency\")\n",
    "plt.title(\"Price Distribution\")\n",
    "plt.show()"
   ]
  },
  {
   "cell_type": "code",
   "execution_count": 815,
   "id": "30c129ac-abe9-4c25-a462-a530f277a932",
   "metadata": {},
   "outputs": [
    {
     "data": {
      "text/plain": [
       "max       105.0\n",
       "min         0.0\n",
       "mean       13.1\n",
       "median     11.0\n",
       "Name: price, dtype: float64"
      ]
     },
     "execution_count": 815,
     "metadata": {},
     "output_type": "execute_result"
    }
   ],
   "source": [
    "book_content['price'].agg([\"max\",\"min\",\"mean\",\"median\"])"
   ]
  },
  {
   "cell_type": "code",
   "execution_count": 816,
   "id": "71042cee-dd51-4469-95f6-4d021c3afd69",
   "metadata": {},
   "outputs": [],
   "source": [
    "#Відповідь: Максимальна ціна? 105\n",
    "#Відповідь: Мінімальна ціна? 0.0\n",
    "#Відповідь: Середня ціна? 13.1\n",
    "#Відповідь: Медіанна ціна? 11.0"
   ]
  },
  {
   "cell_type": "code",
   "execution_count": 817,
   "id": "f35a49ac-2c22-411a-9813-bde6ee3ed49c",
   "metadata": {},
   "outputs": [
    {
     "name": "stdout",
     "output_type": "stream",
     "text": [
      "Відповідь:  4.9\n"
     ]
    }
   ],
   "source": [
    "#Відповідь: Який рейтинг у датасеті найвищий? \n",
    "print(\"Відповідь: \", book_content[\"user_rating\"].max())"
   ]
  },
  {
   "cell_type": "code",
   "execution_count": 818,
   "id": "f669cb03-36d9-4779-849a-ec109fe1f13f",
   "metadata": {},
   "outputs": [
    {
     "name": "stdout",
     "output_type": "stream",
     "text": [
      "Number of unique books with rating 4.9:  28\n"
     ]
    }
   ],
   "source": [
    "#Відповідь: Скільки книг мають такий рейтинг? Відповідь: 28\n",
    "\n",
    "print(\"Number of unique books with rating 4.9: \", book_content[book_content[\"user_rating\"] == 4.9][\"name\"].nunique() )"
   ]
  },
  {
   "cell_type": "code",
   "execution_count": 819,
   "id": "6f6d725e-445a-4f66-872d-98cf92c03d6f",
   "metadata": {},
   "outputs": [
    {
     "data": {
      "text/plain": [
       "name           Where the Crawdads Sing\n",
       "author                     Delia Owens\n",
       "user_rating                        4.8\n",
       "reviews                          87841\n",
       "price                               15\n",
       "year                              2019\n",
       "genre                          Fiction\n",
       "Name: 534, dtype: object"
      ]
     },
     "execution_count": 819,
     "metadata": {},
     "output_type": "execute_result"
    }
   ],
   "source": [
    "#Відповідь: Яка книга має найбільше відгуків? Відповідь: Where the Crawdads Sing\n",
    "\n",
    "book_content.loc[book_content['reviews'].idxmax()]"
   ]
  },
  {
   "cell_type": "code",
   "execution_count": 820,
   "id": "6d06b0de-c2be-467b-80cc-3983bc5748bd",
   "metadata": {},
   "outputs": [
    {
     "data": {
      "text/plain": [
       "'Publication Manual of the American Psychological Association, 6th Edition'"
      ]
     },
     "execution_count": 820,
     "metadata": {},
     "output_type": "execute_result"
    }
   ],
   "source": [
    "#Відповідь: З тих книг, що потрапили до Топ-50 у 2015 році, \n",
    "#яка книга найдорожча (можна використати проміжний датафрейм)? \n",
    "#Відповідь: 'Publication Manual of the American Psychological Association, 6th Edition'\n",
    "\n",
    "book_content.loc[book_content[book_content[\"year\"]==2015][\"price\"].idxmax(), \"name\"]"
   ]
  },
  {
   "cell_type": "code",
   "execution_count": 821,
   "id": "39477222-4110-443d-be6e-af4716d10f40",
   "metadata": {},
   "outputs": [
    {
     "data": {
      "text/plain": [
       "np.int64(20)"
      ]
     },
     "execution_count": 821,
     "metadata": {},
     "output_type": "execute_result"
    }
   ],
   "source": [
    "#Відповідь: Скільки книг жанру Fiction потрапили до Топ-50 у 2010 році (використовуйте &)? \n",
    "#Відповідь: 20\n",
    "\n",
    "book_content[(book_content[\"year\"]==2010) & (book_content[\"genre\"]==\"Fiction\")]['name'].count()\n"
   ]
  },
  {
   "cell_type": "code",
   "execution_count": 822,
   "id": "8d4b132d-5c98-4219-aa44-4ddaeede9a6d",
   "metadata": {},
   "outputs": [
    {
     "name": "stdout",
     "output_type": "stream",
     "text": [
      "Answer: 1\n",
      "Answer: 1\n"
     ]
    }
   ],
   "source": [
    "#Відповідь: Скільки книг з рейтингом 4.9 потрапило до рейтингу у 2010 та 2011 роках (використовуйте | або функцію isin)? \n",
    "#Відповідь: 1\n",
    "option_one = book_content[(book_content[\"user_rating\"]==4.9) & ((book_content[\"year\"]==2010) | (book_content[\"year\"]==2011))][\"name\"].count()\n",
    "\n",
    "option_two = book_content[(book_content[\"user_rating\"]==4.9) & (book_content[\"year\"].isin([2010,2011]))][\"name\"].count()\n",
    "\n",
    "print(\"Answer:\", option_one)\n",
    "print(\"Answer:\", option_two)"
   ]
  },
  {
   "cell_type": "code",
   "execution_count": 823,
   "id": "4430445c-2270-4efa-a857-9b08fdc043ff",
   "metadata": {},
   "outputs": [
    {
     "data": {
      "text/html": [
       "<div>\n",
       "<style scoped>\n",
       "    .dataframe tbody tr th:only-of-type {\n",
       "        vertical-align: middle;\n",
       "    }\n",
       "\n",
       "    .dataframe tbody tr th {\n",
       "        vertical-align: top;\n",
       "    }\n",
       "\n",
       "    .dataframe thead th {\n",
       "        text-align: right;\n",
       "    }\n",
       "</style>\n",
       "<table border=\"1\" class=\"dataframe\">\n",
       "  <thead>\n",
       "    <tr style=\"text-align: right;\">\n",
       "      <th></th>\n",
       "      <th>name</th>\n",
       "      <th>author</th>\n",
       "      <th>user_rating</th>\n",
       "      <th>reviews</th>\n",
       "      <th>price</th>\n",
       "      <th>year</th>\n",
       "      <th>genre</th>\n",
       "    </tr>\n",
       "  </thead>\n",
       "  <tbody>\n",
       "    <tr>\n",
       "      <th>507</th>\n",
       "      <td>To Kill a Mockingbird</td>\n",
       "      <td>Harper Lee</td>\n",
       "      <td>4.8</td>\n",
       "      <td>26234</td>\n",
       "      <td>0</td>\n",
       "      <td>2015</td>\n",
       "      <td>Fiction</td>\n",
       "    </tr>\n",
       "    <tr>\n",
       "      <th>210</th>\n",
       "      <td>Laugh-Out-Loud Jokes for Kids</td>\n",
       "      <td>Rob Elliott</td>\n",
       "      <td>4.6</td>\n",
       "      <td>6990</td>\n",
       "      <td>4</td>\n",
       "      <td>2015</td>\n",
       "      <td>Non Fiction</td>\n",
       "    </tr>\n",
       "    <tr>\n",
       "      <th>206</th>\n",
       "      <td>Knock-Knock Jokes for Kids</td>\n",
       "      <td>Rob Elliott</td>\n",
       "      <td>4.5</td>\n",
       "      <td>3673</td>\n",
       "      <td>4</td>\n",
       "      <td>2015</td>\n",
       "      <td>Non Fiction</td>\n",
       "    </tr>\n",
       "    <tr>\n",
       "      <th>111</th>\n",
       "      <td>First 100 Words</td>\n",
       "      <td>Roger Priddy</td>\n",
       "      <td>4.7</td>\n",
       "      <td>17323</td>\n",
       "      <td>4</td>\n",
       "      <td>2015</td>\n",
       "      <td>Non Fiction</td>\n",
       "    </tr>\n",
       "    <tr>\n",
       "      <th>123</th>\n",
       "      <td>Giraffes Can't Dance</td>\n",
       "      <td>Giles Andreae</td>\n",
       "      <td>4.8</td>\n",
       "      <td>14038</td>\n",
       "      <td>4</td>\n",
       "      <td>2015</td>\n",
       "      <td>Fiction</td>\n",
       "    </tr>\n",
       "    <tr>\n",
       "      <th>54</th>\n",
       "      <td>Creative Haven Creative Cats Coloring Book (Ad...</td>\n",
       "      <td>Marjorie Sarnat</td>\n",
       "      <td>4.8</td>\n",
       "      <td>4022</td>\n",
       "      <td>4</td>\n",
       "      <td>2015</td>\n",
       "      <td>Non Fiction</td>\n",
       "    </tr>\n",
       "    <tr>\n",
       "      <th>63</th>\n",
       "      <td>Dear Zoo: A Lift-the-Flap Book</td>\n",
       "      <td>Rod Campbell</td>\n",
       "      <td>4.8</td>\n",
       "      <td>10922</td>\n",
       "      <td>5</td>\n",
       "      <td>2015</td>\n",
       "      <td>Fiction</td>\n",
       "    </tr>\n",
       "    <tr>\n",
       "      <th>89</th>\n",
       "      <td>Dover Creative Haven Art Nouveau Animal Design...</td>\n",
       "      <td>Marty Noble</td>\n",
       "      <td>4.6</td>\n",
       "      <td>2134</td>\n",
       "      <td>5</td>\n",
       "      <td>2015</td>\n",
       "      <td>Non Fiction</td>\n",
       "    </tr>\n",
       "    <tr>\n",
       "      <th>478</th>\n",
       "      <td>The Very Hungry Caterpillar</td>\n",
       "      <td>Eric Carle</td>\n",
       "      <td>4.9</td>\n",
       "      <td>19546</td>\n",
       "      <td>5</td>\n",
       "      <td>2015</td>\n",
       "      <td>Fiction</td>\n",
       "    </tr>\n",
       "    <tr>\n",
       "      <th>201</th>\n",
       "      <td>Killing Reagan: The Violent Assault That Chang...</td>\n",
       "      <td>Bill O'Reilly</td>\n",
       "      <td>4.6</td>\n",
       "      <td>5235</td>\n",
       "      <td>5</td>\n",
       "      <td>2015</td>\n",
       "      <td>Non Fiction</td>\n",
       "    </tr>\n",
       "    <tr>\n",
       "      <th>28</th>\n",
       "      <td>Baby Touch and Feel: Animals</td>\n",
       "      <td>DK</td>\n",
       "      <td>4.6</td>\n",
       "      <td>5360</td>\n",
       "      <td>5</td>\n",
       "      <td>2015</td>\n",
       "      <td>Non Fiction</td>\n",
       "    </tr>\n",
       "    <tr>\n",
       "      <th>224</th>\n",
       "      <td>Love You Forever</td>\n",
       "      <td>Robert Munsch</td>\n",
       "      <td>4.8</td>\n",
       "      <td>18613</td>\n",
       "      <td>5</td>\n",
       "      <td>2015</td>\n",
       "      <td>Fiction</td>\n",
       "    </tr>\n",
       "    <tr>\n",
       "      <th>55</th>\n",
       "      <td>Creative Haven Owls Coloring Book (Adult Color...</td>\n",
       "      <td>Marjorie Sarnat</td>\n",
       "      <td>4.8</td>\n",
       "      <td>3871</td>\n",
       "      <td>5</td>\n",
       "      <td>2015</td>\n",
       "      <td>Non Fiction</td>\n",
       "    </tr>\n",
       "    <tr>\n",
       "      <th>17</th>\n",
       "      <td>Adult Coloring Book: Stress Relieving Patterns</td>\n",
       "      <td>Blue Star Coloring</td>\n",
       "      <td>4.4</td>\n",
       "      <td>2951</td>\n",
       "      <td>6</td>\n",
       "      <td>2015</td>\n",
       "      <td>Non Fiction</td>\n",
       "    </tr>\n",
       "    <tr>\n",
       "      <th>376</th>\n",
       "      <td>The Four Agreements: A Practical Guide to Pers...</td>\n",
       "      <td>Don Miguel Ruiz</td>\n",
       "      <td>4.7</td>\n",
       "      <td>23308</td>\n",
       "      <td>6</td>\n",
       "      <td>2015</td>\n",
       "      <td>Non Fiction</td>\n",
       "    </tr>\n",
       "    <tr>\n",
       "      <th>16</th>\n",
       "      <td>Adult Coloring Book: Stress Relieving Animal D...</td>\n",
       "      <td>Blue Star Coloring</td>\n",
       "      <td>4.6</td>\n",
       "      <td>2925</td>\n",
       "      <td>6</td>\n",
       "      <td>2015</td>\n",
       "      <td>Non Fiction</td>\n",
       "    </tr>\n",
       "    <tr>\n",
       "      <th>253</th>\n",
       "      <td>Old School (Diary of a Wimpy Kid #10)</td>\n",
       "      <td>Jeff Kinney</td>\n",
       "      <td>4.8</td>\n",
       "      <td>6169</td>\n",
       "      <td>7</td>\n",
       "      <td>2015</td>\n",
       "      <td>Fiction</td>\n",
       "    </tr>\n",
       "  </tbody>\n",
       "</table>\n",
       "</div>"
      ],
      "text/plain": [
       "                                                  name              author  \\\n",
       "507                              To Kill a Mockingbird          Harper Lee   \n",
       "210                      Laugh-Out-Loud Jokes for Kids         Rob Elliott   \n",
       "206                         Knock-Knock Jokes for Kids         Rob Elliott   \n",
       "111                                    First 100 Words        Roger Priddy   \n",
       "123                               Giraffes Can't Dance       Giles Andreae   \n",
       "54   Creative Haven Creative Cats Coloring Book (Ad...     Marjorie Sarnat   \n",
       "63                      Dear Zoo: A Lift-the-Flap Book        Rod Campbell   \n",
       "89   Dover Creative Haven Art Nouveau Animal Design...         Marty Noble   \n",
       "478                        The Very Hungry Caterpillar          Eric Carle   \n",
       "201  Killing Reagan: The Violent Assault That Chang...       Bill O'Reilly   \n",
       "28                        Baby Touch and Feel: Animals                  DK   \n",
       "224                                   Love You Forever       Robert Munsch   \n",
       "55   Creative Haven Owls Coloring Book (Adult Color...     Marjorie Sarnat   \n",
       "17      Adult Coloring Book: Stress Relieving Patterns  Blue Star Coloring   \n",
       "376  The Four Agreements: A Practical Guide to Pers...     Don Miguel Ruiz   \n",
       "16   Adult Coloring Book: Stress Relieving Animal D...  Blue Star Coloring   \n",
       "253              Old School (Diary of a Wimpy Kid #10)         Jeff Kinney   \n",
       "\n",
       "     user_rating  reviews  price  year        genre  \n",
       "507          4.8    26234      0  2015      Fiction  \n",
       "210          4.6     6990      4  2015  Non Fiction  \n",
       "206          4.5     3673      4  2015  Non Fiction  \n",
       "111          4.7    17323      4  2015  Non Fiction  \n",
       "123          4.8    14038      4  2015      Fiction  \n",
       "54           4.8     4022      4  2015  Non Fiction  \n",
       "63           4.8    10922      5  2015      Fiction  \n",
       "89           4.6     2134      5  2015  Non Fiction  \n",
       "478          4.9    19546      5  2015      Fiction  \n",
       "201          4.6     5235      5  2015  Non Fiction  \n",
       "28           4.6     5360      5  2015  Non Fiction  \n",
       "224          4.8    18613      5  2015      Fiction  \n",
       "55           4.8     3871      5  2015  Non Fiction  \n",
       "17           4.4     2951      6  2015  Non Fiction  \n",
       "376          4.7    23308      6  2015  Non Fiction  \n",
       "16           4.6     2925      6  2015  Non Fiction  \n",
       "253          4.8     6169      7  2015      Fiction  "
      ]
     },
     "execution_count": 823,
     "metadata": {},
     "output_type": "execute_result"
    }
   ],
   "source": [
    "#І насамкінець, давайте відсортуємо за зростанням ціни всі книги, які потрапили до рейтингу в 2015 році \n",
    "#і коштують дешевше за 8 доларів (використовуйте функцію sort_values).\n",
    "\n",
    "book_sorted = book_content[(book_content[\"year\"]==2015) & (book_content[\"price\"]< 8)].sort_values(by =\"price\", ascending=True)\n",
    "\n",
    "book_sorted"
   ]
  },
  {
   "cell_type": "code",
   "execution_count": 824,
   "id": "93abffb0-c6ea-4a25-ae3c-1e9a4aadd347",
   "metadata": {},
   "outputs": [
    {
     "name": "stdout",
     "output_type": "stream",
     "text": [
      "Відповідь: \n",
      " name      Old School (Diary of a Wimpy Kid #10)\n",
      "author                              Jeff Kinney\n",
      "Name: 253, dtype: object\n"
     ]
    }
   ],
   "source": [
    "#Відповідь: Яка книга остання у відсортованому списку? \n",
    "#Відповідь: Old School (Diary of a Wimpy Kid #10)\n",
    "\n",
    "print(\"Відповідь:\",\"\\n\", book_sorted.iloc[-1, :][[\"name\", \"author\"]])"
   ]
  },
  {
   "cell_type": "code",
   "execution_count": 825,
   "id": "35d55a9c-5314-4f10-83f3-cd92489cd450",
   "metadata": {},
   "outputs": [],
   "source": [
    "#Агрегування даних та з'єднання таблиць"
   ]
  },
  {
   "cell_type": "code",
   "execution_count": 826,
   "id": "f1f10346-823e-4579-8a9d-5cb7e745dd6a",
   "metadata": {},
   "outputs": [
    {
     "data": {
      "text/html": [
       "<div>\n",
       "<style scoped>\n",
       "    .dataframe tbody tr th:only-of-type {\n",
       "        vertical-align: middle;\n",
       "    }\n",
       "\n",
       "    .dataframe tbody tr th {\n",
       "        vertical-align: top;\n",
       "    }\n",
       "\n",
       "    .dataframe thead tr th {\n",
       "        text-align: left;\n",
       "    }\n",
       "\n",
       "    .dataframe thead tr:last-of-type th {\n",
       "        text-align: right;\n",
       "    }\n",
       "</style>\n",
       "<table border=\"1\" class=\"dataframe\">\n",
       "  <thead>\n",
       "    <tr>\n",
       "      <th></th>\n",
       "      <th colspan=\"2\" halign=\"left\">price</th>\n",
       "    </tr>\n",
       "    <tr>\n",
       "      <th></th>\n",
       "      <th>max</th>\n",
       "      <th>min</th>\n",
       "    </tr>\n",
       "    <tr>\n",
       "      <th>genre</th>\n",
       "      <th></th>\n",
       "      <th></th>\n",
       "    </tr>\n",
       "  </thead>\n",
       "  <tbody>\n",
       "    <tr>\n",
       "      <th>Fiction</th>\n",
       "      <td>82</td>\n",
       "      <td>0</td>\n",
       "    </tr>\n",
       "    <tr>\n",
       "      <th>Non Fiction</th>\n",
       "      <td>105</td>\n",
       "      <td>0</td>\n",
       "    </tr>\n",
       "  </tbody>\n",
       "</table>\n",
       "</div>"
      ],
      "text/plain": [
       "            price    \n",
       "              max min\n",
       "genre                \n",
       "Fiction        82   0\n",
       "Non Fiction   105   0"
      ]
     },
     "execution_count": 826,
     "metadata": {},
     "output_type": "execute_result"
    }
   ],
   "source": [
    "book_content.groupby(by= \"genre\").agg({\"price\": [\"max\",\"min\"]})"
   ]
  },
  {
   "cell_type": "code",
   "execution_count": 827,
   "id": "714050b8-076f-4caa-9018-51f00f59a348",
   "metadata": {},
   "outputs": [],
   "source": [
    "#Відповідь: Максимальна ціна для жанру Fiction: \n",
    "#Відповідь: 82\n",
    "\n",
    "#Відповідь: Мінімальна ціна для жанру Fiction: \n",
    "#Відповідь: 0\n",
    "\n",
    "#Відповідь: Максимальна ціна для жанру Non Fiction: \n",
    "#Відповідь: 105\n",
    "\n",
    "#Відповідь: Мінімальна ціна для жанру Non Fiction: \n",
    "#Відповідь: 0"
   ]
  },
  {
   "cell_type": "code",
   "execution_count": 828,
   "id": "008276e8-96b7-4540-b122-2b2425ddea27",
   "metadata": {},
   "outputs": [
    {
     "name": "stdout",
     "output_type": "stream",
     "text": [
      "RangeIndex(start=0, stop=248, step=1)\n"
     ]
    },
    {
     "data": {
      "text/html": [
       "<div>\n",
       "<style scoped>\n",
       "    .dataframe tbody tr th:only-of-type {\n",
       "        vertical-align: middle;\n",
       "    }\n",
       "\n",
       "    .dataframe tbody tr th {\n",
       "        vertical-align: top;\n",
       "    }\n",
       "\n",
       "    .dataframe thead th {\n",
       "        text-align: right;\n",
       "    }\n",
       "</style>\n",
       "<table border=\"1\" class=\"dataframe\">\n",
       "  <thead>\n",
       "    <tr style=\"text-align: right;\">\n",
       "      <th></th>\n",
       "      <th>author</th>\n",
       "      <th>quantity_of_books</th>\n",
       "    </tr>\n",
       "  </thead>\n",
       "  <tbody>\n",
       "    <tr>\n",
       "      <th>0</th>\n",
       "      <td>Abraham Verghese</td>\n",
       "      <td>2</td>\n",
       "    </tr>\n",
       "    <tr>\n",
       "      <th>1</th>\n",
       "      <td>Adam Gasiewski</td>\n",
       "      <td>1</td>\n",
       "    </tr>\n",
       "    <tr>\n",
       "      <th>2</th>\n",
       "      <td>Adam Mansbach</td>\n",
       "      <td>1</td>\n",
       "    </tr>\n",
       "    <tr>\n",
       "      <th>3</th>\n",
       "      <td>Adir Levy</td>\n",
       "      <td>1</td>\n",
       "    </tr>\n",
       "    <tr>\n",
       "      <th>4</th>\n",
       "      <td>Admiral William H. McRaven</td>\n",
       "      <td>1</td>\n",
       "    </tr>\n",
       "    <tr>\n",
       "      <th>...</th>\n",
       "      <td>...</td>\n",
       "      <td>...</td>\n",
       "    </tr>\n",
       "    <tr>\n",
       "      <th>243</th>\n",
       "      <td>Walter Isaacson</td>\n",
       "      <td>3</td>\n",
       "    </tr>\n",
       "    <tr>\n",
       "      <th>244</th>\n",
       "      <td>William Davis</td>\n",
       "      <td>2</td>\n",
       "    </tr>\n",
       "    <tr>\n",
       "      <th>245</th>\n",
       "      <td>William P. Young</td>\n",
       "      <td>2</td>\n",
       "    </tr>\n",
       "    <tr>\n",
       "      <th>246</th>\n",
       "      <td>Wizards RPG Team</td>\n",
       "      <td>3</td>\n",
       "    </tr>\n",
       "    <tr>\n",
       "      <th>247</th>\n",
       "      <td>Zhi Gang Sha</td>\n",
       "      <td>2</td>\n",
       "    </tr>\n",
       "  </tbody>\n",
       "</table>\n",
       "<p>248 rows × 2 columns</p>\n",
       "</div>"
      ],
      "text/plain": [
       "                         author  quantity_of_books\n",
       "0              Abraham Verghese                  2\n",
       "1                Adam Gasiewski                  1\n",
       "2                 Adam Mansbach                  1\n",
       "3                     Adir Levy                  1\n",
       "4    Admiral William H. McRaven                  1\n",
       "..                          ...                ...\n",
       "243             Walter Isaacson                  3\n",
       "244               William Davis                  2\n",
       "245            William P. Young                  2\n",
       "246            Wizards RPG Team                  3\n",
       "247                Zhi Gang Sha                  2\n",
       "\n",
       "[248 rows x 2 columns]"
      ]
     },
     "execution_count": 828,
     "metadata": {},
     "output_type": "execute_result"
    }
   ],
   "source": [
    "#Тепер створіть новий датафрейм, який вміщатиме кількість книг для кожного з авторів \n",
    "#(використовуйте функції groupby та agg, для підрахунку кількості використовуйте count). \n",
    "#Не беріть усі стовпці, виберете тільки потрібні\n",
    "\n",
    "author_dataframe = book_content.groupby(by=\"author\").agg({\"name\":\"count\"})\n",
    "author_dataframe.columns = [\"quantity_of_books\"]\n",
    "author_dataframe.reset_index(inplace=True)\n",
    "\n",
    "print(author_dataframe.index)\n",
    "author_dataframe"
   ]
  },
  {
   "cell_type": "code",
   "execution_count": 829,
   "id": "2c7691e5-22e3-42ee-9fe1-4e54e203c85f",
   "metadata": {},
   "outputs": [
    {
     "data": {
      "text/plain": [
       "(248, 2)"
      ]
     },
     "execution_count": 829,
     "metadata": {},
     "output_type": "execute_result"
    }
   ],
   "source": [
    "author_dataframe.shape"
   ]
  },
  {
   "cell_type": "code",
   "execution_count": 830,
   "id": "8c5bdd5b-9f6e-4ae0-9f20-f11e8d6c8a97",
   "metadata": {},
   "outputs": [
    {
     "name": "stdout",
     "output_type": "stream",
     "text": [
      "table size:  (248, 2)\n",
      "The biggest amount of books has:  Jeff Kinney\n",
      "The number of his books:  12\n"
     ]
    }
   ],
   "source": [
    "#Відповідь: Якої розмірності вийшла таблиця? \n",
    "print(\"table size: \",author_dataframe.shape)\n",
    "\n",
    "#Відповідь: Який автор має найбільше книг? \n",
    "print(\"The biggest amount of books has: \", author_dataframe.iloc[author_dataframe.sort_values(by= \"quantity_of_books\", ascending=False)[\"quantity_of_books\"].idxmax()][\"author\"])\n",
    "\n",
    "#Відповідь: Скільки книг цього автора? \n",
    "print(\"The number of his books: \",author_dataframe.iloc[author_dataframe.sort_values(by=\"quantity_of_books\", ascending=False)[\"quantity_of_books\"].idxmax()][\"quantity_of_books\"])"
   ]
  },
  {
   "cell_type": "code",
   "execution_count": 831,
   "id": "d63d8f4a-6a01-434a-bdd1-7ce9051176a9",
   "metadata": {},
   "outputs": [
    {
     "data": {
      "text/html": [
       "<div>\n",
       "<style scoped>\n",
       "    .dataframe tbody tr th:only-of-type {\n",
       "        vertical-align: middle;\n",
       "    }\n",
       "\n",
       "    .dataframe tbody tr th {\n",
       "        vertical-align: top;\n",
       "    }\n",
       "\n",
       "    .dataframe thead th {\n",
       "        text-align: right;\n",
       "    }\n",
       "</style>\n",
       "<table border=\"1\" class=\"dataframe\">\n",
       "  <thead>\n",
       "    <tr style=\"text-align: right;\">\n",
       "      <th></th>\n",
       "      <th>author</th>\n",
       "      <th>mean_user_rating</th>\n",
       "    </tr>\n",
       "  </thead>\n",
       "  <tbody>\n",
       "    <tr>\n",
       "      <th>0</th>\n",
       "      <td>Abraham Verghese</td>\n",
       "      <td>4.600000</td>\n",
       "    </tr>\n",
       "    <tr>\n",
       "      <th>1</th>\n",
       "      <td>Adam Gasiewski</td>\n",
       "      <td>4.400000</td>\n",
       "    </tr>\n",
       "    <tr>\n",
       "      <th>2</th>\n",
       "      <td>Adam Mansbach</td>\n",
       "      <td>4.800000</td>\n",
       "    </tr>\n",
       "    <tr>\n",
       "      <th>3</th>\n",
       "      <td>Adir Levy</td>\n",
       "      <td>4.800000</td>\n",
       "    </tr>\n",
       "    <tr>\n",
       "      <th>4</th>\n",
       "      <td>Admiral William H. McRaven</td>\n",
       "      <td>4.700000</td>\n",
       "    </tr>\n",
       "    <tr>\n",
       "      <th>...</th>\n",
       "      <td>...</td>\n",
       "      <td>...</td>\n",
       "    </tr>\n",
       "    <tr>\n",
       "      <th>243</th>\n",
       "      <td>Walter Isaacson</td>\n",
       "      <td>4.566667</td>\n",
       "    </tr>\n",
       "    <tr>\n",
       "      <th>244</th>\n",
       "      <td>William Davis</td>\n",
       "      <td>4.400000</td>\n",
       "    </tr>\n",
       "    <tr>\n",
       "      <th>245</th>\n",
       "      <td>William P. Young</td>\n",
       "      <td>4.600000</td>\n",
       "    </tr>\n",
       "    <tr>\n",
       "      <th>246</th>\n",
       "      <td>Wizards RPG Team</td>\n",
       "      <td>4.800000</td>\n",
       "    </tr>\n",
       "    <tr>\n",
       "      <th>247</th>\n",
       "      <td>Zhi Gang Sha</td>\n",
       "      <td>4.600000</td>\n",
       "    </tr>\n",
       "  </tbody>\n",
       "</table>\n",
       "<p>248 rows × 2 columns</p>\n",
       "</div>"
      ],
      "text/plain": [
       "                         author  mean_user_rating\n",
       "0              Abraham Verghese          4.600000\n",
       "1                Adam Gasiewski          4.400000\n",
       "2                 Adam Mansbach          4.800000\n",
       "3                     Adir Levy          4.800000\n",
       "4    Admiral William H. McRaven          4.700000\n",
       "..                          ...               ...\n",
       "243             Walter Isaacson          4.566667\n",
       "244               William Davis          4.400000\n",
       "245            William P. Young          4.600000\n",
       "246            Wizards RPG Team          4.800000\n",
       "247                Zhi Gang Sha          4.600000\n",
       "\n",
       "[248 rows x 2 columns]"
      ]
     },
     "execution_count": 831,
     "metadata": {},
     "output_type": "execute_result"
    }
   ],
   "source": [
    "#Тепер створіть другий датафрейм, який буде вміщати середній рейтинг для кожного автора \n",
    "#(використовуйте функції groupby та agg, для підрахунку середнього значення використовуйте mean). \n",
    "#Не беріть усі стовпці, виберете тільки потрібні\n",
    "\n",
    "author_rating = book_content.groupby(by=\"author\").agg({\"user_rating\":\"mean\"})\n",
    "\n",
    "author_rating.columns=[\"mean_user_rating\"]\n",
    "author_rating.reset_index(inplace=True)\n",
    "author_rating"
   ]
  },
  {
   "cell_type": "code",
   "execution_count": 832,
   "id": "044eb6d0-8c7e-45dd-a659-e8d513b92e0c",
   "metadata": {},
   "outputs": [
    {
     "name": "stdout",
     "output_type": "stream",
     "text": [
      "Author with the lowerst mean rating:  Donna Tartt\n",
      "He has the rating of :  3.9\n"
     ]
    }
   ],
   "source": [
    "#Відповідь: У якого автора середній рейтинг мінімальний? \n",
    "print(\"Author with the lowerst mean rating: \", author_rating.iloc[author_rating[\"mean_user_rating\"].idxmin()][\"author\"])\n",
    "#Відповідь: Який у цього автора середній рейтинг? \n",
    "print(\"He has the rating of : \", author_rating.iloc[author_rating[\"mean_user_rating\"].idxmin()][\"mean_user_rating\"])"
   ]
  },
  {
   "cell_type": "code",
   "execution_count": 833,
   "id": "c1fdd849-93d2-48fd-a8d4-c0ffa47d4510",
   "metadata": {},
   "outputs": [
    {
     "data": {
      "text/html": [
       "<div>\n",
       "<style scoped>\n",
       "    .dataframe tbody tr th:only-of-type {\n",
       "        vertical-align: middle;\n",
       "    }\n",
       "\n",
       "    .dataframe tbody tr th {\n",
       "        vertical-align: top;\n",
       "    }\n",
       "\n",
       "    .dataframe thead th {\n",
       "        text-align: right;\n",
       "    }\n",
       "</style>\n",
       "<table border=\"1\" class=\"dataframe\">\n",
       "  <thead>\n",
       "    <tr style=\"text-align: right;\">\n",
       "      <th></th>\n",
       "      <th>author</th>\n",
       "      <th>quantity_of_books</th>\n",
       "      <th>mean_user_rating</th>\n",
       "    </tr>\n",
       "  </thead>\n",
       "  <tbody>\n",
       "    <tr>\n",
       "      <th>0</th>\n",
       "      <td>Abraham Verghese</td>\n",
       "      <td>2</td>\n",
       "      <td>4.600000</td>\n",
       "    </tr>\n",
       "    <tr>\n",
       "      <th>1</th>\n",
       "      <td>Adam Gasiewski</td>\n",
       "      <td>1</td>\n",
       "      <td>4.400000</td>\n",
       "    </tr>\n",
       "    <tr>\n",
       "      <th>2</th>\n",
       "      <td>Adam Mansbach</td>\n",
       "      <td>1</td>\n",
       "      <td>4.800000</td>\n",
       "    </tr>\n",
       "    <tr>\n",
       "      <th>3</th>\n",
       "      <td>Adir Levy</td>\n",
       "      <td>1</td>\n",
       "      <td>4.800000</td>\n",
       "    </tr>\n",
       "    <tr>\n",
       "      <th>4</th>\n",
       "      <td>Admiral William H. McRaven</td>\n",
       "      <td>1</td>\n",
       "      <td>4.700000</td>\n",
       "    </tr>\n",
       "    <tr>\n",
       "      <th>...</th>\n",
       "      <td>...</td>\n",
       "      <td>...</td>\n",
       "      <td>...</td>\n",
       "    </tr>\n",
       "    <tr>\n",
       "      <th>243</th>\n",
       "      <td>Walter Isaacson</td>\n",
       "      <td>3</td>\n",
       "      <td>4.566667</td>\n",
       "    </tr>\n",
       "    <tr>\n",
       "      <th>244</th>\n",
       "      <td>William Davis</td>\n",
       "      <td>2</td>\n",
       "      <td>4.400000</td>\n",
       "    </tr>\n",
       "    <tr>\n",
       "      <th>245</th>\n",
       "      <td>William P. Young</td>\n",
       "      <td>2</td>\n",
       "      <td>4.600000</td>\n",
       "    </tr>\n",
       "    <tr>\n",
       "      <th>246</th>\n",
       "      <td>Wizards RPG Team</td>\n",
       "      <td>3</td>\n",
       "      <td>4.800000</td>\n",
       "    </tr>\n",
       "    <tr>\n",
       "      <th>247</th>\n",
       "      <td>Zhi Gang Sha</td>\n",
       "      <td>2</td>\n",
       "      <td>4.600000</td>\n",
       "    </tr>\n",
       "  </tbody>\n",
       "</table>\n",
       "<p>248 rows × 3 columns</p>\n",
       "</div>"
      ],
      "text/plain": [
       "                         author  quantity_of_books  mean_user_rating\n",
       "0              Abraham Verghese                  2          4.600000\n",
       "1                Adam Gasiewski                  1          4.400000\n",
       "2                 Adam Mansbach                  1          4.800000\n",
       "3                     Adir Levy                  1          4.800000\n",
       "4    Admiral William H. McRaven                  1          4.700000\n",
       "..                          ...                ...               ...\n",
       "243             Walter Isaacson                  3          4.566667\n",
       "244               William Davis                  2          4.400000\n",
       "245            William P. Young                  2          4.600000\n",
       "246            Wizards RPG Team                  3          4.800000\n",
       "247                Zhi Gang Sha                  2          4.600000\n",
       "\n",
       "[248 rows x 3 columns]"
      ]
     },
     "execution_count": 833,
     "metadata": {},
     "output_type": "execute_result"
    }
   ],
   "source": [
    "#З'єднайте останні два датафрейми так, щоб для кожного автора було видно кількість книг та середній рейтинг \n",
    "#(Використовуйте функцію concat з параметром axis=1). Збережіть результат у змінну\n",
    "if 'author' in author_dataframe.columns:\n",
    "    author_dataframe.set_index(\"author\", inplace=True)\n",
    "if 'author' in author_rating.columns:\n",
    "    author_rating.set_index(\"author\", inplace=True)\n",
    "total_authors_info = pd.concat([author_dataframe, author_rating],axis=1)\n",
    "total_authors_info.reset_index(inplace=True)\n",
    "total_authors_info"
   ]
  },
  {
   "cell_type": "code",
   "execution_count": 834,
   "id": "45f04130-26b2-4a93-9a50-e0b72c2a1591",
   "metadata": {},
   "outputs": [
    {
     "name": "stdout",
     "output_type": "stream",
     "text": [
      "Index(['author', 'quantity_of_books', 'mean_user_rating'], dtype='object')\n"
     ]
    }
   ],
   "source": [
    "print(total_authors_info.columns)"
   ]
  },
  {
   "cell_type": "code",
   "execution_count": 835,
   "id": "d4ca7d29-e0b5-4037-8f5d-227b222ec95f",
   "metadata": {},
   "outputs": [
    {
     "data": {
      "text/html": [
       "<div>\n",
       "<style scoped>\n",
       "    .dataframe tbody tr th:only-of-type {\n",
       "        vertical-align: middle;\n",
       "    }\n",
       "\n",
       "    .dataframe tbody tr th {\n",
       "        vertical-align: top;\n",
       "    }\n",
       "\n",
       "    .dataframe thead th {\n",
       "        text-align: right;\n",
       "    }\n",
       "</style>\n",
       "<table border=\"1\" class=\"dataframe\">\n",
       "  <thead>\n",
       "    <tr style=\"text-align: right;\">\n",
       "      <th></th>\n",
       "      <th>author</th>\n",
       "      <th>quantity_of_books</th>\n",
       "      <th>mean_user_rating</th>\n",
       "    </tr>\n",
       "  </thead>\n",
       "  <tbody>\n",
       "    <tr>\n",
       "      <th>171</th>\n",
       "      <td>Muriel Barbery</td>\n",
       "      <td>1</td>\n",
       "      <td>4.000000</td>\n",
       "    </tr>\n",
       "    <tr>\n",
       "      <th>43</th>\n",
       "      <td>Chris Cleave</td>\n",
       "      <td>1</td>\n",
       "      <td>4.100000</td>\n",
       "    </tr>\n",
       "    <tr>\n",
       "      <th>109</th>\n",
       "      <td>Ian K. Smith M.D.</td>\n",
       "      <td>1</td>\n",
       "      <td>4.100000</td>\n",
       "    </tr>\n",
       "    <tr>\n",
       "      <th>186</th>\n",
       "      <td>Pierre Dukan</td>\n",
       "      <td>1</td>\n",
       "      <td>4.100000</td>\n",
       "    </tr>\n",
       "    <tr>\n",
       "      <th>81</th>\n",
       "      <td>Elizabeth Strout</td>\n",
       "      <td>1</td>\n",
       "      <td>4.200000</td>\n",
       "    </tr>\n",
       "    <tr>\n",
       "      <th>...</th>\n",
       "      <td>...</td>\n",
       "      <td>...</td>\n",
       "      <td>...</td>\n",
       "    </tr>\n",
       "    <tr>\n",
       "      <th>11</th>\n",
       "      <td>American Psychological Association</td>\n",
       "      <td>10</td>\n",
       "      <td>4.500000</td>\n",
       "    </tr>\n",
       "    <tr>\n",
       "      <th>226</th>\n",
       "      <td>Suzanne Collins</td>\n",
       "      <td>11</td>\n",
       "      <td>4.663636</td>\n",
       "    </tr>\n",
       "    <tr>\n",
       "      <th>92</th>\n",
       "      <td>Gary Chapman</td>\n",
       "      <td>11</td>\n",
       "      <td>4.736364</td>\n",
       "    </tr>\n",
       "    <tr>\n",
       "      <th>197</th>\n",
       "      <td>Rick Riordan</td>\n",
       "      <td>11</td>\n",
       "      <td>4.772727</td>\n",
       "    </tr>\n",
       "    <tr>\n",
       "      <th>120</th>\n",
       "      <td>Jeff Kinney</td>\n",
       "      <td>12</td>\n",
       "      <td>4.800000</td>\n",
       "    </tr>\n",
       "  </tbody>\n",
       "</table>\n",
       "<p>248 rows × 3 columns</p>\n",
       "</div>"
      ],
      "text/plain": [
       "                                 author  quantity_of_books  mean_user_rating\n",
       "171                      Muriel Barbery                  1          4.000000\n",
       "43                         Chris Cleave                  1          4.100000\n",
       "109                   Ian K. Smith M.D.                  1          4.100000\n",
       "186                        Pierre Dukan                  1          4.100000\n",
       "81                     Elizabeth Strout                  1          4.200000\n",
       "..                                  ...                ...               ...\n",
       "11   American Psychological Association                 10          4.500000\n",
       "226                     Suzanne Collins                 11          4.663636\n",
       "92                         Gary Chapman                 11          4.736364\n",
       "197                        Rick Riordan                 11          4.772727\n",
       "120                         Jeff Kinney                 12          4.800000\n",
       "\n",
       "[248 rows x 3 columns]"
      ]
     },
     "execution_count": 835,
     "metadata": {},
     "output_type": "execute_result"
    }
   ],
   "source": [
    "#Відсортуйте датафрейм за зростаючою кількістю книг та зростаючим рейтингом (використовуйте функцію sort_values)\n",
    "total_authors_info_sorted = total_authors_info.sort_values([\"quantity_of_books\",\"mean_user_rating\"])\n",
    "total_authors_info_sorted"
   ]
  },
  {
   "cell_type": "code",
   "execution_count": 836,
   "id": "eec3522e-893b-4649-87b4-13f04fcbda15",
   "metadata": {},
   "outputs": [
    {
     "name": "stdout",
     "output_type": "stream",
     "text": [
      "First in the list:  Muriel Barbery\n"
     ]
    }
   ],
   "source": [
    "#Відповідь: Який автор перший у списку?\n",
    "print(\"First in the list: \",total_authors_info_sorted.iloc[0,0])"
   ]
  },
  {
   "cell_type": "code",
   "execution_count": 837,
   "id": "f369cfec-b6d5-404f-9676-a447f8346a28",
   "metadata": {},
   "outputs": [
    {
     "data": {
      "image/png": "[encoded data removed]",
      "text/plain": [
       "<Figure size 1000x700 with 1 Axes>"
      ]
     },
     "metadata": {},
     "output_type": "display_data"
    }
   ],
   "source": [
    "# visualization top-10 Authors rated by books number\n",
    "import matplotlib.pyplot as plt\n",
    "import seaborn as sns\n",
    "\n",
    "total_auth = total_authors_info.sort_values([\"quantity_of_books\",\"mean_user_rating\"], ascending=False)\n",
    "top_10_authors = total_auth[0:10]\n",
    "\n",
    "plt.figure(figsize=(10,7))\n",
    "sns.barplot(x=top_10_authors[\"author\"], y=top_10_authors[\"quantity_of_books\"], hue=top_10_authors[\"author\"], palette=\"Blues_d\", dodge=False)\n",
    "\n",
    "\n",
    "plt.xlabel(\"Authors\")\n",
    "plt.ylabel(\"Books quantity\")\n",
    "plt.title(\"TOP-10 Authors ranked by Books quantity\")\n",
    "plt.xticks(rotation=45, fontsize=\"9\")\n",
    "plt.show()\n"
   ]
  },
  {
   "cell_type": "code",
   "execution_count": 838,
   "id": "3fdabd7a-5d0c-444d-b5b0-f2ab3302bc8f",
   "metadata": {},
   "outputs": [
    {
     "data": {
      "image/png": "[encoded data removed]",
      "text/plain": [
       "<Figure size 500x500 with 1 Axes>"
      ]
     },
     "metadata": {},
     "output_type": "display_data"
    }
   ],
   "source": [
    "#Visualization of Fiction / Non Fiction shares in 2015 Year\n",
    "import matplotlib.pyplot as plt\n",
    "\n",
    "books_2015 = book_content[book_content[\"year\"]==2015].groupby(by=\"genre\").agg({\"genre\":\"count\"})\n",
    "\n",
    "books_2015.columns=[\"quantity\"]\n",
    "books_2015.reset_index(inplace=True)\n",
    "\n",
    "labels = books_2015[\"genre\"].tolist()\n",
    "data = books_2015[\"quantity\"].tolist()\n",
    "explode= [0.05,0.05]\n",
    "plt.figure(figsize=(5,5))\n",
    "\n",
    "plt.pie(data,\n",
    "    labels=labels,\n",
    "    shadow=True,\n",
    "    explode=explode,\n",
    "    autopct=\"%.2f%%\",\n",
    "    pctdistance=1.15,\n",
    "    labeldistance=1.35,\n",
    "    colors=['green', 'red'], )\n",
    "\n",
    "plt.title(\"Visualization of Fiction / Non Fiction shares in year 2015\")\n",
    "plt.show()\n",
    "\n"
   ]
  },
  {
   "cell_type": "code",
   "execution_count": 851,
   "id": "767ab2e5-8d94-4414-ab47-75a7e0d431b6",
   "metadata": {},
   "outputs": [
    {
     "data": {
      "text/plain": [
       "<Figure size 1000x1000 with 0 Axes>"
      ]
     },
     "metadata": {},
     "output_type": "display_data"
    },
    {
     "data": {
      "image/png": "[encoded data removed]",
      "text/plain": [
       "<Figure size 500x500 with 1 Axes>"
      ]
     },
     "metadata": {},
     "output_type": "display_data"
    }
   ],
   "source": [
    "#Visualization of Linear regression\n",
    "import matplotlib.pyplot as plt\n",
    "import seaborn as sns\n",
    "from numpy import median\n",
    "\n",
    "set = book_content[book_content[\"year\"]==2019]\n",
    "price_rating_set = set.groupby(by=\"author\").agg({\"user_rating\":\"mean\", \"price\":\"mean\" })\n",
    "price_rating_set.reset_index(inplace=True)\n",
    "\n",
    "plt.figure(figsize=(10,10))\n",
    "sns.lmplot(data = price_rating_set, x=\"price\", y=\"user_rating\", x_estimator=median)\n",
    "\n",
    "plt.xlabel(\"BOOK mean Price\")\n",
    "plt.ylabel(\"BOOK mean Rating\")\n",
    "plt.title(\"Dependancies between Book price and Book Rating\")\n",
    "\n",
    "plt.show()"
   ]
  },
  {
   "cell_type": "code",
   "execution_count": null,
   "id": "58c169b1-6103-4ab8-8f05-efc67d1f8892",
   "metadata": {},
   "outputs": [],
   "source": []
  }
 ],
 "metadata": {
  "kernelspec": {
   "display_name": "for MLearning",
   "language": "python",
   "name": "my"
  },
  "language_info": {
   "codemirror_mode": {
    "name": "ipython",
    "version": 3
   },
   "file_extension": ".py",
   "mimetype": "text/x-python",
   "name": "python",
   "nbconvert_exporter": "python",
   "pygments_lexer": "ipython3",
   "version": "3.11.5"
  }
 },
 "nbformat": 4,
 "nbformat_minor": 5
}

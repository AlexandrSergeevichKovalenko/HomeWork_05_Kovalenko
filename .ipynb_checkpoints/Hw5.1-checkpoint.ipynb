{
 "cells": [
  {
   "cell_type": "code",
   "execution_count": 2,
   "id": "18436777-5cd3-4ef9-ad44-92c7e5a93d71",
   "metadata": {},
   "outputs": [],
   "source": [
    "import pandas as pd\n",
    "import numpy as np"
   ]
  },
  {
   "cell_type": "code",
   "execution_count": 3,
   "id": "0e5de61b-ac50-41e3-ba55-5da1ff23f4bf",
   "metadata": {},
   "outputs": [],
   "source": [
    "url = \"https://uk.wikipedia.org/wiki/%D0%9D%D0%B0%D1%81%D0%B5%D0%BB%D0%B5%D0%BD%D0%BD%D1%8F_%D0%A3%D0%BA%D1%80%D0%B0%D1%97%D0%BD%D0%B8\"\n",
    "tables = pd.read_html(url, attrs={\"class\": \"wikitable collapsible collapsed\"})\n",
    "fertility_tab = tables[3]\n",
    "\n"
   ]
  },
  {
   "cell_type": "code",
   "execution_count": 103,
   "id": "d33f62e0-98e5-44c4-b161-f50ba31b3f25",
   "metadata": {},
   "outputs": [
    {
     "data": {
      "text/html": [
       "<div>\n",
       "<style scoped>\n",
       "    .dataframe tbody tr th:only-of-type {\n",
       "        vertical-align: middle;\n",
       "    }\n",
       "\n",
       "    .dataframe tbody tr th {\n",
       "        vertical-align: top;\n",
       "    }\n",
       "\n",
       "    .dataframe thead th {\n",
       "        text-align: right;\n",
       "    }\n",
       "</style>\n",
       "<table border=\"1\" class=\"dataframe\">\n",
       "  <thead>\n",
       "    <tr style=\"text-align: right;\">\n",
       "      <th></th>\n",
       "      <th>Регіон</th>\n",
       "      <th>1950</th>\n",
       "      <th>1960</th>\n",
       "      <th>1970</th>\n",
       "      <th>1990</th>\n",
       "      <th>2000</th>\n",
       "      <th>2012</th>\n",
       "      <th>2014</th>\n",
       "      <th>2019</th>\n",
       "    </tr>\n",
       "  </thead>\n",
       "  <tbody>\n",
       "    <tr>\n",
       "      <th>0</th>\n",
       "      <td>Крим</td>\n",
       "      <td>230.0</td>\n",
       "      <td>206.0</td>\n",
       "      <td>160.0</td>\n",
       "      <td>130</td>\n",
       "      <td>73</td>\n",
       "      <td>126</td>\n",
       "      <td>—</td>\n",
       "      <td>—</td>\n",
       "    </tr>\n",
       "    <tr>\n",
       "      <th>1</th>\n",
       "      <td>Вінницька</td>\n",
       "      <td>224.0</td>\n",
       "      <td>192.0</td>\n",
       "      <td>142.0</td>\n",
       "      <td>124</td>\n",
       "      <td>84</td>\n",
       "      <td>112</td>\n",
       "      <td>109</td>\n",
       "      <td>76</td>\n",
       "    </tr>\n",
       "    <tr>\n",
       "      <th>2</th>\n",
       "      <td>Волинська</td>\n",
       "      <td>247.0</td>\n",
       "      <td>250.0</td>\n",
       "      <td>179.0</td>\n",
       "      <td>153</td>\n",
       "      <td>112</td>\n",
       "      <td>148</td>\n",
       "      <td>141</td>\n",
       "      <td>101</td>\n",
       "    </tr>\n",
       "    <tr>\n",
       "      <th>3</th>\n",
       "      <td>Дніпропетровська</td>\n",
       "      <td>204.0</td>\n",
       "      <td>204.0</td>\n",
       "      <td>151.0</td>\n",
       "      <td>123</td>\n",
       "      <td>71</td>\n",
       "      <td>112</td>\n",
       "      <td>111</td>\n",
       "      <td>71</td>\n",
       "    </tr>\n",
       "    <tr>\n",
       "      <th>4</th>\n",
       "      <td>Донецька</td>\n",
       "      <td>271.0</td>\n",
       "      <td>214.0</td>\n",
       "      <td>140.0</td>\n",
       "      <td>109</td>\n",
       "      <td>61</td>\n",
       "      <td>98</td>\n",
       "      <td>82</td>\n",
       "      <td>—</td>\n",
       "    </tr>\n",
       "  </tbody>\n",
       "</table>\n",
       "</div>"
      ],
      "text/plain": [
       "             Регіон   1950   1960   1970  1990  2000  2012 2014 2019\n",
       "0              Крим  230.0  206.0  160.0   130    73   126    —    —\n",
       "1         Вінницька  224.0  192.0  142.0   124    84   112  109   76\n",
       "2         Волинська  247.0  250.0  179.0   153   112   148  141  101\n",
       "3  Дніпропетровська  204.0  204.0  151.0   123    71   112  111   71\n",
       "4          Донецька  271.0  214.0  140.0   109    61    98   82    —"
      ]
     },
     "execution_count": 103,
     "metadata": {},
     "output_type": "execute_result"
    }
   ],
   "source": [
    "#Вивести перші рядки таблиці за допомогою методу head\n",
    "fertility_tab.head()"
   ]
  },
  {
   "cell_type": "code",
   "execution_count": 5,
   "id": "296e7806-9e93-402d-9f03-417c6784cea0",
   "metadata": {},
   "outputs": [
    {
     "name": "stdout",
     "output_type": "stream",
     "text": [
      "table size: (28, 9)\n"
     ]
    }
   ],
   "source": [
    "#Визначте кількість рядків та стовпців у датафреймі (атрибут shape)\n",
    "print(\"table size:\", fertility_tab.shape)\n"
   ]
  },
  {
   "cell_type": "code",
   "execution_count": 235,
   "id": "6c223e61-03aa-4194-a0ee-d5d5dae739cf",
   "metadata": {},
   "outputs": [
    {
     "data": {
      "text/html": [
       "<div>\n",
       "<style scoped>\n",
       "    .dataframe tbody tr th:only-of-type {\n",
       "        vertical-align: middle;\n",
       "    }\n",
       "\n",
       "    .dataframe tbody tr th {\n",
       "        vertical-align: top;\n",
       "    }\n",
       "\n",
       "    .dataframe thead th {\n",
       "        text-align: right;\n",
       "    }\n",
       "</style>\n",
       "<table border=\"1\" class=\"dataframe\">\n",
       "  <thead>\n",
       "    <tr style=\"text-align: right;\">\n",
       "      <th></th>\n",
       "      <th>Регіон</th>\n",
       "      <th>1950</th>\n",
       "      <th>1960</th>\n",
       "      <th>1970</th>\n",
       "      <th>1990</th>\n",
       "      <th>2000</th>\n",
       "      <th>2012</th>\n",
       "      <th>2014</th>\n",
       "      <th>2019</th>\n",
       "    </tr>\n",
       "  </thead>\n",
       "  <tbody>\n",
       "    <tr>\n",
       "      <th>0</th>\n",
       "      <td>Крим</td>\n",
       "      <td>230.0</td>\n",
       "      <td>206.0</td>\n",
       "      <td>160.0</td>\n",
       "      <td>130</td>\n",
       "      <td>73</td>\n",
       "      <td>126</td>\n",
       "      <td>NaN</td>\n",
       "      <td>NaN</td>\n",
       "    </tr>\n",
       "    <tr>\n",
       "      <th>1</th>\n",
       "      <td>Вінницька</td>\n",
       "      <td>224.0</td>\n",
       "      <td>192.0</td>\n",
       "      <td>142.0</td>\n",
       "      <td>124</td>\n",
       "      <td>84</td>\n",
       "      <td>112</td>\n",
       "      <td>109</td>\n",
       "      <td>76</td>\n",
       "    </tr>\n",
       "    <tr>\n",
       "      <th>2</th>\n",
       "      <td>Волинська</td>\n",
       "      <td>247.0</td>\n",
       "      <td>250.0</td>\n",
       "      <td>179.0</td>\n",
       "      <td>153</td>\n",
       "      <td>112</td>\n",
       "      <td>148</td>\n",
       "      <td>141</td>\n",
       "      <td>101</td>\n",
       "    </tr>\n",
       "    <tr>\n",
       "      <th>3</th>\n",
       "      <td>Дніпропетровська</td>\n",
       "      <td>204.0</td>\n",
       "      <td>204.0</td>\n",
       "      <td>151.0</td>\n",
       "      <td>123</td>\n",
       "      <td>71</td>\n",
       "      <td>112</td>\n",
       "      <td>111</td>\n",
       "      <td>71</td>\n",
       "    </tr>\n",
       "    <tr>\n",
       "      <th>4</th>\n",
       "      <td>Донецька</td>\n",
       "      <td>271.0</td>\n",
       "      <td>214.0</td>\n",
       "      <td>140.0</td>\n",
       "      <td>109</td>\n",
       "      <td>61</td>\n",
       "      <td>98</td>\n",
       "      <td>82</td>\n",
       "      <td>NaN</td>\n",
       "    </tr>\n",
       "    <tr>\n",
       "      <th>5</th>\n",
       "      <td>Житомирська</td>\n",
       "      <td>261.0</td>\n",
       "      <td>223.0</td>\n",
       "      <td>159.0</td>\n",
       "      <td>129</td>\n",
       "      <td>89</td>\n",
       "      <td>122</td>\n",
       "      <td>120</td>\n",
       "      <td>79</td>\n",
       "    </tr>\n",
       "    <tr>\n",
       "      <th>6</th>\n",
       "      <td>Закарпатська</td>\n",
       "      <td>314.0</td>\n",
       "      <td>273.0</td>\n",
       "      <td>207.0</td>\n",
       "      <td>168</td>\n",
       "      <td>115</td>\n",
       "      <td>151</td>\n",
       "      <td>146</td>\n",
       "      <td>104</td>\n",
       "    </tr>\n",
       "    <tr>\n",
       "      <th>7</th>\n",
       "      <td>Запорізька</td>\n",
       "      <td>219.0</td>\n",
       "      <td>197.0</td>\n",
       "      <td>150.0</td>\n",
       "      <td>124</td>\n",
       "      <td>71</td>\n",
       "      <td>106</td>\n",
       "      <td>106</td>\n",
       "      <td>68</td>\n",
       "    </tr>\n",
       "    <tr>\n",
       "      <th>8</th>\n",
       "      <td>Івано-Франківська</td>\n",
       "      <td>243.0</td>\n",
       "      <td>248.0</td>\n",
       "      <td>182.0</td>\n",
       "      <td>155</td>\n",
       "      <td>103</td>\n",
       "      <td>124</td>\n",
       "      <td>122</td>\n",
       "      <td>88</td>\n",
       "    </tr>\n",
       "    <tr>\n",
       "      <th>9</th>\n",
       "      <td>Київська</td>\n",
       "      <td>204.0</td>\n",
       "      <td>189.0</td>\n",
       "      <td>156.0</td>\n",
       "      <td>123</td>\n",
       "      <td>73</td>\n",
       "      <td>122</td>\n",
       "      <td>121</td>\n",
       "      <td>80</td>\n",
       "    </tr>\n",
       "  </tbody>\n",
       "</table>\n",
       "</div>"
      ],
      "text/plain": [
       "              Регіон   1950   1960   1970  1990  2000  2012 2014 2019\n",
       "0               Крим  230.0  206.0  160.0   130    73   126  NaN  NaN\n",
       "1          Вінницька  224.0  192.0  142.0   124    84   112  109   76\n",
       "2          Волинська  247.0  250.0  179.0   153   112   148  141  101\n",
       "3   Дніпропетровська  204.0  204.0  151.0   123    71   112  111   71\n",
       "4           Донецька  271.0  214.0  140.0   109    61    98   82  NaN\n",
       "5        Житомирська  261.0  223.0  159.0   129    89   122  120   79\n",
       "6       Закарпатська  314.0  273.0  207.0   168   115   151  146  104\n",
       "7         Запорізька  219.0  197.0  150.0   124    71   106  106   68\n",
       "8  Івано-Франківська  243.0  248.0  182.0   155   103   124  122   88\n",
       "9           Київська  204.0  189.0  156.0   123    73   122  121   80"
      ]
     },
     "execution_count": 235,
     "metadata": {},
     "output_type": "execute_result"
    }
   ],
   "source": [
    "#Замініть у таблиці значення \"—\" на значення NaN\n",
    "fertility_tab_new = fertility_tab.replace(\"—\", np.nan)\n",
    "fertility_tab_new.head(10)\n"
   ]
  },
  {
   "cell_type": "code",
   "execution_count": 23,
   "id": "bd92d564-d6b5-4444-917e-c5a3876b7916",
   "metadata": {},
   "outputs": [
    {
     "data": {
      "text/plain": [
       "Регіон     object\n",
       "1950      float64\n",
       "1960      float64\n",
       "1970      float64\n",
       "1990        int64\n",
       "2000        int64\n",
       "2012        int64\n",
       "2014      float64\n",
       "2019      float64\n",
       "dtype: object"
      ]
     },
     "execution_count": 23,
     "metadata": {},
     "output_type": "execute_result"
    }
   ],
   "source": [
    "#Визначте типи всіх стовпців за допомогою dataframe.dtypes\n",
    "fertility_tab_new.dtypes"
   ]
  },
  {
   "cell_type": "code",
   "execution_count": 105,
   "id": "0074f3d4-4390-4882-b302-1cf52316cd35",
   "metadata": {},
   "outputs": [
    {
     "data": {
      "text/plain": [
       "Регіон     object\n",
       "1950      float64\n",
       "1960      float64\n",
       "1970      float64\n",
       "1990        int64\n",
       "2000        int64\n",
       "2012        int64\n",
       "2014      float64\n",
       "2019      float64\n",
       "dtype: object"
      ]
     },
     "execution_count": 105,
     "metadata": {},
     "output_type": "execute_result"
    }
   ],
   "source": [
    "#Замініть типи нечислових колонок на числові. Підказка - це колонки, де знаходився символ \"—\"\n",
    "fertility_tab_new[[\"2014\", \"2019\"]] = fertility_tab_new[[\"2014\", \"2019\"]].apply(pd.to_numeric)\n",
    "fertility_tab_new.dtypes"
   ]
  },
  {
   "cell_type": "code",
   "execution_count": 65,
   "id": "d83d50c3-ce23-4e6e-8d6f-cff610d634c9",
   "metadata": {},
   "outputs": [
    {
     "name": "stdout",
     "output_type": "stream",
     "text": [
      "missing values of each columns:  \n",
      " Регіон    0\n",
      "1950      2\n",
      "1960      1\n",
      "1970      1\n",
      "1990      0\n",
      "2000      0\n",
      "2012      0\n",
      "2014      2\n",
      "2019      4\n",
      "dtype: int64 \n",
      "\n",
      "total number of rows: 28 \n",
      "\n",
      "share:  \n",
      " Регіон    0.00\n",
      "1950      0.07\n",
      "1960      0.04\n",
      "1970      0.04\n",
      "1990      0.00\n",
      "2000      0.00\n",
      "2012      0.00\n",
      "2014      0.07\n",
      "2019      0.14\n",
      "dtype: float64\n"
     ]
    }
   ],
   "source": [
    "#Порахуйте, яка частка пропусків міститься в кожній колонці (використовуйте методи isnull та sum)\n",
    "missing_values = fertility_tab_new.isnull().sum()\n",
    "rows = len(fertility_tab_new)\n",
    "share = np.round(missing_values/rows, 2)\n",
    "print(\"missing values of each columns: \", \"\\n\", missing_values, \"\\n\")\n",
    "print(\"total number of rows:\", rows, \"\\n\")\n",
    "print(\"share: \",\"\\n\", share)"
   ]
  },
  {
   "cell_type": "code",
   "execution_count": 84,
   "id": "cffeb50e-196d-4e9a-98af-5b2663865765",
   "metadata": {},
   "outputs": [
    {
     "name": "stdout",
     "output_type": "stream",
     "text": [
      "          Регіон   1950   1960   1970  1990  2000  2012 2014 2019\n",
      "23   Чернівецька  247.0  218.0  170.0   148   101   128  129   92\n",
      "24  Чернігівська  220.0  183.0  127.0   108    69    94   90   61\n",
      "25          Київ    NaN  174.0  159.0   120    73   120  121  110\n",
      "26   Севастополь    NaN    NaN    NaN   125    70   120    —    —\n"
     ]
    }
   ],
   "source": [
    "#Видаліть з таблиці дані по всій країні, останній рядок таблиці\n",
    "without_last_row = fertility_tab.drop(index=27)\n",
    "without_last_row = without_last_row.iloc[23:]\n",
    "\n",
    "print(without_last_row)"
   ]
  },
  {
   "cell_type": "code",
   "execution_count": 179,
   "id": "1334b0bf-bd2e-4980-a767-0b47355fe8be",
   "metadata": {},
   "outputs": [
    {
     "name": "stdout",
     "output_type": "stream",
     "text": [
      "              Регіон   1950   1960   1970  1990  2000  2012   2014   2019\n",
      "0               Крим  230.0  206.0  160.0   130    73   126  111.4   80.2\n",
      "1          Вінницька  224.0  192.0  142.0   124    84   112  109.0   76.0\n",
      "2          Волинська  247.0  250.0  179.0   153   112   148  141.0  101.0\n",
      "3   Дніпропетровська  204.0  204.0  151.0   123    71   112  111.0   71.0\n",
      "4           Донецька  271.0  214.0  140.0   109    61    98   82.0   80.2\n",
      "5        Житомирська  261.0  223.0  159.0   129    89   122  120.0   79.0\n",
      "6       Закарпатська  314.0  273.0  207.0   168   115   151  146.0  104.0\n",
      "7         Запорізька  219.0  197.0  150.0   124    71   106  106.0   68.0\n",
      "8  Івано-Франківська  243.0  248.0  182.0   155   103   124  122.0   88.0\n",
      "9           Київська  204.0  189.0  156.0   123    73   122  121.0   80.0\n"
     ]
    }
   ],
   "source": [
    "#Замініть відсутні дані в стовпцях середніми значеннями цих стовпців (метод fillna)\n",
    "for column in fertility_tab_new.columns[1:]:\n",
    "    #if pd.api.types.is_numeric_dtype(fertility_tab_new[column]):\n",
    "    fertility_tab_new[column] = fertility_tab_new[column].fillna(fertility_tab_new[column].mean()).round(1)\n",
    "print(fertility_tab_new.head(10))\n"
   ]
  },
  {
   "cell_type": "code",
   "execution_count": 172,
   "id": "fb1fa23a-2c9e-4e7b-b78a-fc81964dc92a",
   "metadata": {
    "scrolled": true
   },
   "outputs": [
    {
     "name": "stdout",
     "output_type": "stream",
     "text": [
      "mean_Ukraine:  80.207 \n",
      "\n",
      "Regions from 2019 which meet the target: \n"
     ]
    },
    {
     "data": {
      "text/plain": [
       "2             Волинська\n",
       "6          Закарпатська\n",
       "8     Івано-Франківська\n",
       "12            Львівська\n",
       "14              Одеська\n",
       "16           Рівненська\n",
       "20           Херсонська\n",
       "23          Чернівецька\n",
       "25                 Київ\n",
       "27              Україна\n",
       "Name: Регіон, dtype: object"
      ]
     },
     "execution_count": 172,
     "metadata": {},
     "output_type": "execute_result"
    }
   ],
   "source": [
    "#Отримайте список регіонів, де рівень народжуваності у 2019 році був вищим за середній по Україні\n",
    "avrg_ukr_rate = fertility_tab_new.drop(columns = \"Регіон\").mean().round(3)[\"2019\"]\n",
    "#avr_ukr_test = fertility_tab_new.iloc[:, 1:].mean().round(3)\n",
    "\n",
    "print(\"mean_Ukraine: \", avrg_ukr_rate, \"\\n\")\n",
    "#print(\"mean_Ukraine: \", avr_ukr_test)\n",
    "#there is no Regions in 2019 with the fertility level bigger than avarage of Ukraine\n",
    "above_avarage_2019 = fertility_tab_new[fertility_tab_new[\"2019\"] > avrg_ukr_rate]['Регіон']\n",
    "print(\"Regions from 2019 which meet the target: \")\n",
    "above_avarage_2019"
   ]
  },
  {
   "cell_type": "code",
   "execution_count": 189,
   "id": "a0bf34fa-aaa9-488e-82be-30fe2b5080e7",
   "metadata": {},
   "outputs": [
    {
     "data": {
      "text/plain": [
       "'Рівненська'"
      ]
     },
     "execution_count": 189,
     "metadata": {},
     "output_type": "execute_result"
    }
   ],
   "source": [
    "#У якому регіоні була найвища народжуваність у 2014 році?\n",
    "max_fertil_indx_2014 = fertility_tab_new[\"2014\"].idxmax()\n",
    "fertility_tab_new.loc[max_fertil_indx_2014, \"Регіон\"]"
   ]
  },
  {
   "cell_type": "code",
   "execution_count": 234,
   "id": "d823b61f-e784-469e-b560-cb66d54101b2",
   "metadata": {},
   "outputs": [
    {
     "data": {
      "image/png": "[encoded data removed]",
      "text/plain": [
       "<Figure size 640x480 with 1 Axes>"
      ]
     },
     "metadata": {},
     "output_type": "display_data"
    }
   ],
   "source": [
    "#Побудуйте стовпчикову діаграму народжуваності по регіонах у 2019 році\n",
    "import matplotlib.pyplot as plt\n",
    "\n",
    "plt.bar(fertility_tab_new.iloc[:, 0], fertility_tab_new[\"2019\"], label=\"Population Growth\")\n",
    "plt.xlabel(\"Fertility coeffitient\", fontsize=\"small\", color=\"midnightblue\")\n",
    "plt.ylabel(\"City of Ukraine\", fontsize=\"8\", color=\"midnightblue\")\n",
    "plt.title(\"Ukraine fertility level in 2019\", fontsize=15, color=\"black\")\n",
    "plt.legend(fontsize = \"7\")\n",
    "plt.xticks(rotation=90, fontsize=\"7\")\n",
    "plt.show()"
   ]
  },
  {
   "cell_type": "code",
   "execution_count": null,
   "id": "5cf75247-c1cb-467c-8ad1-755c18c5ab3a",
   "metadata": {},
   "outputs": [],
   "source": []
  }
 ],
 "metadata": {
  "kernelspec": {
   "display_name": "for MLearning",
   "language": "python",
   "name": "my"
  },
  "language_info": {
   "codemirror_mode": {
    "name": "ipython",
    "version": 3
   },
   "file_extension": ".py",
   "mimetype": "text/x-python",
   "name": "python",
   "nbconvert_exporter": "python",
   "pygments_lexer": "ipython3",
   "version": "3.11.5"
  }
 },
 "nbformat": 4,
 "nbformat_minor": 5
}
